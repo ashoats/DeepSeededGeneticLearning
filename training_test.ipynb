{
 "cells": [
  {
   "cell_type": "markdown",
   "metadata": {},
   "source": [
    "# Hyperparameters Used\n",
    "- $\\gamma$: Discount Factor\n",
    "- Model Architecture\n",
    "    - 2 Fully-connected layers\n",
    "    - 4 states feed into a 128 node hidden-layer\n",
    "        - dropout = 0.6 (hyperparameter)\n",
    "        - RELU activation function\n",
    "    - Hidden layer feeds into a 4 node output-layer\n",
    "        - softmax activation function\n",
    "- Optimizer:\n",
    "    - Adam Optimizer\n",
    "        - default params\n",
    "        - $\\alpha$: learning-rate\n",
    "- $\\beta$: Exponentially-weighted average coefficient\n",
    "\n",
    "-Source: https://github.com/pytorch/examples/blob/master/reinforcement_learning/reinforce.py"
   ]
  },
  {
   "cell_type": "code",
   "execution_count": null,
   "metadata": {},
   "outputs": [],
   "source": [
    "import gym\n",
    "import numpy as np\n",
    "from itertools import count\n",
    "\n",
    "import torch\n",
    "import torch.nn as nn\n",
    "import torch.nn.functional as F\n",
    "import torch.optim as optim\n",
    "from torch.distributions import Categorical\n",
    "\n",
    "import matplotlib.pyplot as plt\n",
    "%matplotlib notebook"
   ]
  },
  {
   "cell_type": "markdown",
   "metadata": {},
   "source": [
    "# Some system setup"
   ]
  },
  {
   "cell_type": "code",
   "execution_count": null,
   "metadata": {},
   "outputs": [],
   "source": [
    "gamma = 0.95 # discount factor\n",
    "seed  = 543\n",
    "render = False\n",
    "log_interval = 10\n",
    "\n",
    "env = gym.make('CartPole-v1')\n",
    "#env = gym.make('InvertedDoublePendulum-v2')\n",
    "#env.seed(seed)\n",
    "#torch.manual_seed(seed)"
   ]
  },
  {
   "cell_type": "markdown",
   "metadata": {},
   "source": [
    "# Deep Learning Model\n",
    "The following class defines the neural network used to train our agent.\n",
    "We use a two layer fully-connected model with droupout on the first layer, followed by a RELU activation function.\n",
    "The second layer uses a softmax activation function to estimate the best action to take in the current state."
   ]
  },
  {
   "cell_type": "code",
   "execution_count": null,
   "metadata": {},
   "outputs": [],
   "source": [
    "class Policy(nn.Module):\n",
    "    def __init__(self):\n",
    "        super(Policy, self).__init__()\n",
    "        self.affine1 = nn.Linear(4, 124)\n",
    "        #self.dropout = nn.Dropout(p=0.6)\n",
    "        self.affine2 = nn.Linear(124, 2)\n",
    "\n",
    "        self.saved_log_probs = []\n",
    "        self.rewards = []\n",
    "\n",
    "    def forward(self, x):\n",
    "        x = self.affine1(x)\n",
    "        #x = self.dropout(x)\n",
    "        x = F.relu(x)\n",
    "        action_scores = self.affine2(x)\n",
    "        return F.softmax(action_scores, dim=1)"
   ]
  },
  {
   "cell_type": "markdown",
   "metadata": {},
   "source": [
    "# Model and optimizer setup\n",
    "Here we set up the model and choose to optimize it with an Adam Optimizer with learning rate $\\alpha=0.01$."
   ]
  },
  {
   "cell_type": "code",
   "execution_count": null,
   "metadata": {},
   "outputs": [],
   "source": [
    "policy = Policy()\n",
    "optimizer = optim.Adam(policy.parameters(), lr=1.2e-2)\n",
    "eps = np.finfo(np.float32).eps.item()"
   ]
  },
  {
   "cell_type": "markdown",
   "metadata": {},
   "source": [
    "# Helper Functions"
   ]
  },
  {
   "cell_type": "code",
   "execution_count": null,
   "metadata": {},
   "outputs": [],
   "source": [
    "def select_action(state):\n",
    "    state = torch.from_numpy(state).float().unsqueeze(0)\n",
    "    probs = policy(state)\n",
    "    m = Categorical(probs)\n",
    "    action = m.sample()\n",
    "    policy.saved_log_probs.append(m.log_prob(action))\n",
    "    return action.item()\n",
    "\n",
    "def sim_action(state):\n",
    "    state = torch.from_numpy(state).float().unsqueeze(0)\n",
    "    actions = policy(state)\n",
    "    _, action = actions.max(1)\n",
    "    return action.item()\n",
    "\n",
    "def finish_episode():\n",
    "    R = 0\n",
    "    policy_loss = []\n",
    "    returns = []\n",
    "    for r in policy.rewards[::-1]:\n",
    "        R = r + gamma * R\n",
    "        returns.insert(0, R)\n",
    "    returns = torch.tensor(returns)\n",
    "    returns = (returns - returns.mean()) / (returns.std() + eps)\n",
    "    for log_prob, R in zip(policy.saved_log_probs, returns):\n",
    "        policy_loss.append(-log_prob * R)\n",
    "    optimizer.zero_grad()\n",
    "    policy_loss = torch.cat(policy_loss).sum()\n",
    "    policy_loss.backward()\n",
    "    optimizer.step()\n",
    "    del policy.rewards[:]\n",
    "    del policy.saved_log_probs[:]\n",
    "\n",
    "def sim():\n",
    "    tot_reward = 0\n",
    "    state = env.reset()\n",
    "    for t in range(1, 10000):\n",
    "        action = sim_action(state)\n",
    "        state, reward, done, _ = env.step(action)\n",
    "        tot_reward += reward\n",
    "        env.render()\n",
    "        if done:\n",
    "            print(tot_reward)\n",
    "            break"
   ]
  },
  {
   "cell_type": "code",
   "execution_count": 6,
   "metadata": {},
   "outputs": [],
   "source": [
    "duration = []\n",
    "#env.spec.max_episode_steps = 100\n",
    "#env.spec.max_episode_steps"
   ]
  },
  {
   "cell_type": "markdown",
   "metadata": {},
   "source": [
    "# Training\n",
    "We train the model in the cell below until our average reward surpasses the built in reward threshold. \n",
    "We use an exponentially weighted average with $\\beta = 0.4$ on the running reward."
   ]
  },
  {
   "cell_type": "code",
   "execution_count": 7,
   "metadata": {},
   "outputs": [
    {
     "name": "stdout",
     "output_type": "stream",
     "text": [
      "Episode 10\tLast reward: 69.00\tAverage reward: 19.78\n",
      "Episode 20\tLast reward: 50.00\tAverage reward: 30.86\n",
      "Episode 30\tLast reward: 74.00\tAverage reward: 41.98\n",
      "Episode 40\tLast reward: 61.00\tAverage reward: 50.60\n",
      "Episode 50\tLast reward: 92.00\tAverage reward: 68.95\n",
      "Episode 60\tLast reward: 430.00\tAverage reward: 106.02\n",
      "Episode 70\tLast reward: 51.00\tAverage reward: 114.58\n",
      "Episode 80\tLast reward: 75.00\tAverage reward: 115.34\n",
      "Episode 90\tLast reward: 112.00\tAverage reward: 113.21\n",
      "Episode 100\tLast reward: 500.00\tAverage reward: 140.29\n",
      "Episode 110\tLast reward: 500.00\tAverage reward: 241.04\n",
      "Episode 120\tLast reward: 500.00\tAverage reward: 327.83\n",
      "Episode 130\tLast reward: 500.00\tAverage reward: 385.54\n",
      "Episode 140\tLast reward: 500.00\tAverage reward: 423.90\n",
      "Episode 150\tLast reward: 500.00\tAverage reward: 449.41\n",
      "Episode 160\tLast reward: 21.00\tAverage reward: 367.53\n",
      "Episode 170\tLast reward: 15.00\tAverage reward: 248.53\n",
      "Episode 180\tLast reward: 15.00\tAverage reward: 170.01\n",
      "Episode 190\tLast reward: 18.00\tAverage reward: 119.63\n",
      "Episode 200\tLast reward: 33.00\tAverage reward: 94.52\n",
      "Episode 210\tLast reward: 101.00\tAverage reward: 96.64\n",
      "Episode 220\tLast reward: 105.00\tAverage reward: 100.29\n",
      "Episode 230\tLast reward: 97.00\tAverage reward: 100.41\n",
      "Episode 240\tLast reward: 65.00\tAverage reward: 91.41\n",
      "Episode 250\tLast reward: 109.00\tAverage reward: 98.37\n",
      "Episode 260\tLast reward: 146.00\tAverage reward: 108.98\n",
      "Episode 270\tLast reward: 237.00\tAverage reward: 135.04\n",
      "Episode 280\tLast reward: 500.00\tAverage reward: 222.09\n",
      "Episode 290\tLast reward: 500.00\tAverage reward: 315.24\n",
      "Episode 300\tLast reward: 500.00\tAverage reward: 377.16\n",
      "Episode 310\tLast reward: 500.00\tAverage reward: 418.33\n",
      "Episode 320\tLast reward: 29.00\tAverage reward: 377.83\n",
      "Episode 330\tLast reward: 58.00\tAverage reward: 318.76\n",
      "Episode 340\tLast reward: 56.00\tAverage reward: 240.25\n",
      "Episode 350\tLast reward: 500.00\tAverage reward: 194.93\n",
      "Episode 360\tLast reward: 51.00\tAverage reward: 191.44\n",
      "Episode 370\tLast reward: 60.00\tAverage reward: 190.37\n",
      "Episode 380\tLast reward: 500.00\tAverage reward: 294.15\n",
      "Episode 390\tLast reward: 500.00\tAverage reward: 360.59\n",
      "Episode 400\tLast reward: 500.00\tAverage reward: 407.32\n",
      "Episode 410\tLast reward: 500.00\tAverage reward: 438.38\n",
      "Episode 420\tLast reward: 500.00\tAverage reward: 459.03\n",
      "Episode 430\tLast reward: 99.00\tAverage reward: 456.72\n",
      "Episode 440\tLast reward: 500.00\tAverage reward: 431.82\n",
      "Episode 450\tLast reward: 90.00\tAverage reward: 331.13\n",
      "Episode 460\tLast reward: 94.00\tAverage reward: 264.87\n",
      "Episode 470\tLast reward: 103.00\tAverage reward: 207.02\n",
      "Episode 480\tLast reward: 30.00\tAverage reward: 154.62\n",
      "Episode 490\tLast reward: 44.00\tAverage reward: 119.81\n",
      "Episode 500\tLast reward: 109.00\tAverage reward: 114.65\n",
      "Episode 510\tLast reward: 99.00\tAverage reward: 110.07\n",
      "Episode 520\tLast reward: 110.00\tAverage reward: 111.36\n",
      "Episode 530\tLast reward: 119.00\tAverage reward: 113.26\n",
      "Episode 540\tLast reward: 148.00\tAverage reward: 119.30\n",
      "Episode 550\tLast reward: 500.00\tAverage reward: 246.90\n",
      "Episode 560\tLast reward: 500.00\tAverage reward: 331.73\n",
      "Episode 570\tLast reward: 500.00\tAverage reward: 388.13\n",
      "Episode 580\tLast reward: 500.00\tAverage reward: 425.62\n",
      "Episode 590\tLast reward: 500.00\tAverage reward: 450.55\n",
      "Episode 600\tLast reward: 500.00\tAverage reward: 467.13\n",
      "Episode 610\tLast reward: 313.00\tAverage reward: 450.31\n",
      "Episode 620\tLast reward: 184.00\tAverage reward: 365.32\n",
      "Episode 630\tLast reward: 155.00\tAverage reward: 307.84\n",
      "Episode 640\tLast reward: 372.00\tAverage reward: 299.02\n",
      "Episode 650\tLast reward: 374.00\tAverage reward: 319.22\n",
      "Episode 660\tLast reward: 336.00\tAverage reward: 326.67\n",
      "Episode 670\tLast reward: 314.00\tAverage reward: 322.96\n",
      "Episode 680\tLast reward: 296.00\tAverage reward: 316.93\n",
      "Episode 690\tLast reward: 500.00\tAverage reward: 340.50\n",
      "Episode 700\tLast reward: 500.00\tAverage reward: 391.71\n",
      "Episode 710\tLast reward: 500.00\tAverage reward: 428.01\n",
      "Episode 720\tLast reward: 500.00\tAverage reward: 452.14\n",
      "Episode 730\tLast reward: 500.00\tAverage reward: 468.18\n",
      "Episode 740\tLast reward: 425.00\tAverage reward: 465.96\n",
      "Episode 750\tLast reward: 441.00\tAverage reward: 468.56\n",
      "Episode 760\tLast reward: 178.00\tAverage reward: 428.54\n",
      "Episode 770\tLast reward: 163.00\tAverage reward: 342.77\n",
      "Episode 780\tLast reward: 146.00\tAverage reward: 272.98\n",
      "Episode 790\tLast reward: 126.00\tAverage reward: 225.79\n",
      "Episode 800\tLast reward: 115.00\tAverage reward: 192.07\n",
      "Episode 810\tLast reward: 122.00\tAverage reward: 170.20\n",
      "Episode 820\tLast reward: 166.00\tAverage reward: 169.32\n",
      "Episode 830\tLast reward: 454.00\tAverage reward: 238.43\n",
      "Episode 840\tLast reward: 500.00\tAverage reward: 315.47\n",
      "Episode 850\tLast reward: 500.00\tAverage reward: 377.32\n",
      "Episode 860\tLast reward: 500.00\tAverage reward: 418.44\n",
      "Episode 870\tLast reward: 500.00\tAverage reward: 445.78\n",
      "Episode 880\tLast reward: 500.00\tAverage reward: 463.95\n",
      "Solved! Running reward is now 475.03382972527265 and the last episode runs to 500 time steps!\n"
     ]
    }
   ],
   "source": [
    "running_reward = 10\n",
    "for i_episode in count(1):\n",
    "    state, ep_reward = env.reset(), 0\n",
    "    for t in range(1, 20000):  # Don't infinite loop while learning\n",
    "        action = select_action(state)\n",
    "        state, reward, done, _ = env.step(action)\n",
    "        if render:\n",
    "            env.render()\n",
    "        policy.rewards.append(reward)\n",
    "        ep_reward += reward\n",
    "        if done:\n",
    "            duration.append(t)\n",
    "            break\n",
    "\n",
    "    running_reward = 0.04 * ep_reward + (1 - 0.04) * running_reward\n",
    "    finish_episode()\n",
    "    if i_episode % log_interval == 0:\n",
    "        print('Episode {}\\tLast reward: {:.2f}\\tAverage reward: {:.2f}'.format(\n",
    "              i_episode, ep_reward, running_reward))\n",
    "        #print(action)\n",
    "    if running_reward > env.spec.reward_threshold:\n",
    "        print(\"Solved! Running reward is now {} and \"\n",
    "              \"the last episode runs to {} time steps!\".format(running_reward, t))\n",
    "        env.close()\n",
    "        break"
   ]
  },
  {
   "cell_type": "markdown",
   "metadata": {},
   "source": [
    "# Training performance\n",
    "The plot below is a measure of training performance. As the model is trained, it should on average be able to run longer without \"failing\"."
   ]
  },
  {
   "cell_type": "code",
   "execution_count": 8,
   "metadata": {},
   "outputs": [
    {
     "data": {
      "image/png": "[encoded data removed]",
      "text/plain": [
       "<Figure size 432x288 with 1 Axes>"
      ]
     },
     "metadata": {
      "needs_background": "light"
     },
     "output_type": "display_data"
    }
   ],
   "source": [
    "plt.plot(duration)\n",
    "plt.xlabel(\"Episode\")\n",
    "plt.ylabel(\"Time Steps\")\n",
    "plt.title(\"Training Duration\")\n",
    "plt.savefig('training_duration_lr_12en2.png')"
   ]
  },
  {
   "cell_type": "code",
   "execution_count": 9,
   "metadata": {},
   "outputs": [],
   "source": [
    "from gym import wrappers\n",
    "from time import time # just to have timestamps in the files"
   ]
  },
  {
   "cell_type": "markdown",
   "metadata": {},
   "source": [
    "# Simulate Environment and Record Current Model"
   ]
  },
  {
   "cell_type": "code",
   "execution_count": 10,
   "metadata": {},
   "outputs": [
    {
     "name": "stdout",
     "output_type": "stream",
     "text": [
      "500.0\n"
     ]
    }
   ],
   "source": [
    "env = gym.make('CartPole-v1')\n",
    "env = wrappers.Monitor(env, './videos/' + str(time()) + '/')\n",
    "sim()\n",
    "#sudo apt-get install ffmpeg"
   ]
  },
  {
   "cell_type": "markdown",
   "metadata": {},
   "source": [
    "# Save the model"
   ]
  },
  {
   "cell_type": "code",
   "execution_count": 11,
   "metadata": {},
   "outputs": [],
   "source": [
    "torch.save(policy.state_dict(), \"./models/model_gamma_p95.pth\")"
   ]
  },
  {
   "cell_type": "code",
   "execution_count": null,
   "metadata": {},
   "outputs": [],
   "source": []
  }
 ],
 "metadata": {
  "kernelspec": {
   "display_name": "Python 3",
   "language": "python",
   "name": "python3"
  },
  "language_info": {
   "codemirror_mode": {
    "name": "ipython",
    "version": 3
   },
   "file_extension": ".py",
   "mimetype": "text/x-python",
   "name": "python",
   "nbconvert_exporter": "python",
   "pygments_lexer": "ipython3",
   "version": "3.7.3"
  }
 },
 "nbformat": 4,
 "nbformat_minor": 2
}
