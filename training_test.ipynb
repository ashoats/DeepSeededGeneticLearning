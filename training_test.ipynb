{
 "cells": [
  {
   "cell_type": "markdown",
   "metadata": {},
   "source": [
    "# Hyperparameters Used\n",
    "- $\\gamma$: Discount Factor\n",
    "- Model Architecture\n",
    "    - 2 Fully-connected layers\n",
    "    - 4 states feed into a 128 node hidden-layer\n",
    "        - dropout = 0.6 (hyperparameter)\n",
    "        - RELU activation function\n",
    "    - Hidden layer feeds into a 4 node output-layer\n",
    "        - softmax activation function\n",
    "- Optimizer:\n",
    "    - Adam Optimizer\n",
    "        - default params\n",
    "        - $\\alpha$: learning-rate\n",
    "-$\\beta$: Exponentially-weighted average coefficient\n",
    "\n",
    "-Source: https://github.com/pytorch/examples/blob/master/reinforcement_learning/reinforce.py"
   ]
  },
  {
   "cell_type": "code",
   "execution_count": 1,
   "metadata": {},
   "outputs": [],
   "source": [
    "import gym\n",
    "import numpy as np\n",
    "from itertools import count\n",
    "\n",
    "import torch\n",
    "import torch.nn as nn\n",
    "import torch.nn.functional as F\n",
    "import torch.optim as optim\n",
    "from torch.distributions import Categorical\n",
    "\n",
    "import matplotlib.pyplot as plt\n",
    "%matplotlib notebook"
   ]
  },
  {
   "cell_type": "markdown",
   "metadata": {},
   "source": [
    "# Some system setup"
   ]
  },
  {
   "cell_type": "code",
   "execution_count": 2,
   "metadata": {},
   "outputs": [
    {
     "data": {
      "text/plain": [
       "<torch._C.Generator at 0x7fdf6c868e10>"
      ]
     },
     "execution_count": 2,
     "metadata": {},
     "output_type": "execute_result"
    }
   ],
   "source": [
    "gamma = 0.99 # discount factor\n",
    "seed  = 543\n",
    "render = False\n",
    "log_interval = 10\n",
    "\n",
    "env = gym.make('CartPole-v1')\n",
    "#env = gym.make('InvertedDoublePendulum-v2')\n",
    "env.seed(seed)\n",
    "torch.manual_seed(seed)"
   ]
  },
  {
   "cell_type": "markdown",
   "metadata": {},
   "source": [
    "# Deep Learning Model\n",
    "The following class defines the neural network used to train our agent.\n",
    "We use a two layer fully-connected model with droupout on the first layer, followed by a RELU activation function.\n",
    "The second layer uses a softmax activation function to estimate the best action to take in the current state."
   ]
  },
  {
   "cell_type": "code",
   "execution_count": 3,
   "metadata": {},
   "outputs": [],
   "source": [
    "class Policy(nn.Module):\n",
    "    def __init__(self):\n",
    "        super(Policy, self).__init__()\n",
    "        self.affine1 = nn.Linear(4, 128)\n",
    "        self.dropout = nn.Dropout(p=0.6)\n",
    "        self.affine2 = nn.Linear(128, 2)\n",
    "\n",
    "        self.saved_log_probs = []\n",
    "        self.rewards = []\n",
    "\n",
    "    def forward(self, x):\n",
    "        x = self.affine1(x)\n",
    "        x = self.dropout(x)\n",
    "        x = F.relu(x)\n",
    "        action_scores = self.affine2(x)\n",
    "        return F.softmax(action_scores, dim=1)"
   ]
  },
  {
   "cell_type": "markdown",
   "metadata": {},
   "source": [
    "# Model and optimizer setup\n",
    "Here we set up the model and choose to optimize it with an Adam Optimizer with learning rate $\\alpha=0.01$."
   ]
  },
  {
   "cell_type": "code",
   "execution_count": 4,
   "metadata": {},
   "outputs": [],
   "source": [
    "policy = Policy()\n",
    "optimizer = optim.Adam(policy.parameters(), lr=1.2e-2)\n",
    "eps = np.finfo(np.float32).eps.item()"
   ]
  },
  {
   "cell_type": "markdown",
   "metadata": {},
   "source": [
    "# Helper Functions"
   ]
  },
  {
   "cell_type": "code",
   "execution_count": 5,
   "metadata": {},
   "outputs": [],
   "source": [
    "def select_action(state):\n",
    "    state = torch.from_numpy(state).float().unsqueeze(0)\n",
    "    probs = policy(state)\n",
    "    m = Categorical(probs)\n",
    "    action = m.sample()\n",
    "    policy.saved_log_probs.append(m.log_prob(action))\n",
    "    return action.item()\n",
    "\n",
    "def sim_action(state):\n",
    "    state = torch.from_numpy(state).float().unsqueeze(0)\n",
    "    actions = policy(state)\n",
    "    _, action = actions.max(1)\n",
    "    return action.item()\n",
    "\n",
    "def finish_episode():\n",
    "    R = 0\n",
    "    policy_loss = []\n",
    "    returns = []\n",
    "    for r in policy.rewards[::-1]:\n",
    "        R = r + gamma * R\n",
    "        returns.insert(0, R)\n",
    "    returns = torch.tensor(returns)\n",
    "    returns = (returns - returns.mean()) / (returns.std() + eps)\n",
    "    for log_prob, R in zip(policy.saved_log_probs, returns):\n",
    "        policy_loss.append(-log_prob * R)\n",
    "    optimizer.zero_grad()\n",
    "    policy_loss = torch.cat(policy_loss).sum()\n",
    "    policy_loss.backward()\n",
    "    optimizer.step()\n",
    "    del policy.rewards[:]\n",
    "    del policy.saved_log_probs[:]\n",
    "\n",
    "def sim():\n",
    "    tot_reward = 0\n",
    "    state = env.reset()\n",
    "    for t in range(1, 10000):\n",
    "        action = sim_action(state)\n",
    "        state, reward, done, _ = env.step(action)\n",
    "        tot_reward += reward\n",
    "        env.render()\n",
    "        if done:\n",
    "            print(tot_reward)\n",
    "            break"
   ]
  },
  {
   "cell_type": "code",
   "execution_count": 6,
   "metadata": {},
   "outputs": [],
   "source": [
    "duration = []\n",
    "#env.spec.max_episode_steps = 100\n",
    "#env.spec.max_episode_steps"
   ]
  },
  {
   "cell_type": "markdown",
   "metadata": {},
   "source": [
    "# Training\n",
    "We train the model in the cell below until our average reward surpasses the built in reward threshold. \n",
    "We use an exponentially weighted average with $\\beta = 0.4$ on the running reward."
   ]
  },
  {
   "cell_type": "code",
   "execution_count": 7,
   "metadata": {},
   "outputs": [
    {
     "name": "stdout",
     "output_type": "stream",
     "text": [
      "Episode 10\tLast reward: 26.00\tAverage reward: 15.08\n",
      "Episode 20\tLast reward: 14.00\tAverage reward: 14.35\n",
      "Episode 30\tLast reward: 43.00\tAverage reward: 17.88\n",
      "Episode 40\tLast reward: 22.00\tAverage reward: 18.44\n",
      "Episode 50\tLast reward: 23.00\tAverage reward: 18.59\n",
      "Episode 60\tLast reward: 28.00\tAverage reward: 23.62\n",
      "Episode 70\tLast reward: 62.00\tAverage reward: 29.03\n",
      "Episode 80\tLast reward: 38.00\tAverage reward: 37.22\n",
      "Episode 90\tLast reward: 119.00\tAverage reward: 45.48\n",
      "Episode 100\tLast reward: 42.00\tAverage reward: 45.30\n",
      "Episode 110\tLast reward: 93.00\tAverage reward: 51.09\n",
      "Episode 120\tLast reward: 111.00\tAverage reward: 98.60\n",
      "Episode 130\tLast reward: 60.00\tAverage reward: 101.64\n",
      "Episode 140\tLast reward: 32.00\tAverage reward: 97.90\n",
      "Episode 150\tLast reward: 106.00\tAverage reward: 108.51\n",
      "Episode 160\tLast reward: 33.00\tAverage reward: 88.98\n",
      "Episode 170\tLast reward: 34.00\tAverage reward: 72.48\n",
      "Episode 180\tLast reward: 55.00\tAverage reward: 61.80\n",
      "Episode 190\tLast reward: 93.00\tAverage reward: 71.06\n",
      "Episode 200\tLast reward: 378.00\tAverage reward: 140.26\n",
      "Episode 210\tLast reward: 261.00\tAverage reward: 218.73\n",
      "Episode 220\tLast reward: 500.00\tAverage reward: 295.76\n",
      "Episode 230\tLast reward: 500.00\tAverage reward: 354.96\n",
      "Episode 240\tLast reward: 500.00\tAverage reward: 360.43\n",
      "Episode 250\tLast reward: 500.00\tAverage reward: 313.11\n",
      "Episode 260\tLast reward: 294.00\tAverage reward: 346.58\n",
      "Episode 270\tLast reward: 500.00\tAverage reward: 368.66\n",
      "Episode 280\tLast reward: 82.00\tAverage reward: 338.02\n",
      "Episode 290\tLast reward: 500.00\tAverage reward: 392.31\n",
      "Episode 300\tLast reward: 500.00\tAverage reward: 428.41\n",
      "Episode 310\tLast reward: 500.00\tAverage reward: 430.21\n",
      "Episode 320\tLast reward: 162.00\tAverage reward: 382.00\n",
      "Episode 330\tLast reward: 89.00\tAverage reward: 388.98\n",
      "Episode 340\tLast reward: 43.00\tAverage reward: 394.12\n",
      "Episode 350\tLast reward: 500.00\tAverage reward: 392.67\n",
      "Episode 360\tLast reward: 105.00\tAverage reward: 303.18\n",
      "Episode 370\tLast reward: 35.00\tAverage reward: 217.64\n",
      "Episode 380\tLast reward: 90.00\tAverage reward: 159.54\n",
      "Episode 390\tLast reward: 500.00\tAverage reward: 181.58\n",
      "Episode 400\tLast reward: 500.00\tAverage reward: 283.69\n",
      "Episode 410\tLast reward: 194.00\tAverage reward: 296.48\n",
      "Episode 420\tLast reward: 130.00\tAverage reward: 242.65\n",
      "Episode 430\tLast reward: 150.00\tAverage reward: 201.14\n",
      "Episode 440\tLast reward: 174.00\tAverage reward: 184.68\n",
      "Episode 450\tLast reward: 187.00\tAverage reward: 183.74\n",
      "Episode 460\tLast reward: 214.00\tAverage reward: 188.48\n",
      "Episode 470\tLast reward: 500.00\tAverage reward: 237.43\n",
      "Episode 480\tLast reward: 500.00\tAverage reward: 325.44\n",
      "Episode 490\tLast reward: 500.00\tAverage reward: 383.94\n",
      "Episode 500\tLast reward: 500.00\tAverage reward: 422.84\n",
      "Episode 510\tLast reward: 500.00\tAverage reward: 448.70\n",
      "Episode 520\tLast reward: 500.00\tAverage reward: 465.90\n",
      "Solved! Running reward is now 475.397759323715 and the last episode runs to 500 time steps!\n"
     ]
    }
   ],
   "source": [
    "running_reward = 10\n",
    "for i_episode in count(1):\n",
    "    state, ep_reward = env.reset(), 0\n",
    "    for t in range(1, 20000):  # Don't infinite loop while learning\n",
    "        action = select_action(state)\n",
    "        state, reward, done, _ = env.step(action)\n",
    "        if render:\n",
    "            env.render()\n",
    "        policy.rewards.append(reward)\n",
    "        ep_reward += reward\n",
    "        if done:\n",
    "            duration.append(t)\n",
    "            break\n",
    "\n",
    "    running_reward = 0.04 * ep_reward + (1 - 0.04) * running_reward\n",
    "    finish_episode()\n",
    "    if i_episode % log_interval == 0:\n",
    "        print('Episode {}\\tLast reward: {:.2f}\\tAverage reward: {:.2f}'.format(\n",
    "              i_episode, ep_reward, running_reward))\n",
    "        #print(action)\n",
    "    if running_reward > env.spec.reward_threshold:\n",
    "        print(\"Solved! Running reward is now {} and \"\n",
    "              \"the last episode runs to {} time steps!\".format(running_reward, t))\n",
    "        env.close()\n",
    "        break"
   ]
  },
  {
   "cell_type": "markdown",
   "metadata": {},
   "source": [
    "# Training performance\n",
    "The plot below is a measure of training performance. As the model is trained, it should on average be able to run longer without \"failing\"."
   ]
  },
  {
   "cell_type": "code",
   "execution_count": 8,
   "metadata": {},
   "outputs": [
    {
     "data": {
      "text/plain": [
       "Text(0.5, 1.0, 'Training Duration')"
      ]
     },
     "execution_count": 8,
     "metadata": {},
     "output_type": "execute_result"
    },
    {
     "data": {
      "image/png": "[encoded data removed]",
      "text/plain": [
       "<Figure size 432x288 with 1 Axes>"
      ]
     },
     "metadata": {
      "needs_background": "light"
     },
     "output_type": "display_data"
    }
   ],
   "source": [
    "plt.plot(duration)\n",
    "plt.xlabel(\"Episode\")\n",
    "plt.ylabel(\"Time Steps\")\n",
    "plt.title(\"Training Duration\")"
   ]
  },
  {
   "cell_type": "code",
   "execution_count": 9,
   "metadata": {},
   "outputs": [],
   "source": [
    "from gym import wrappers\n",
    "from time import time # just to have timestamps in the files"
   ]
  },
  {
   "cell_type": "markdown",
   "metadata": {},
   "source": [
    "# Simulate Environment and Record Current Model"
   ]
  },
  {
   "cell_type": "code",
   "execution_count": 10,
   "metadata": {},
   "outputs": [
    {
     "name": "stdout",
     "output_type": "stream",
     "text": [
      "500.0\n"
     ]
    }
   ],
   "source": [
    "env = gym.make('CartPole-v1')\n",
    "env = wrappers.Monitor(env, './videos/' + str(time()) + '/')\n",
    "sim()\n",
    "#sudo apt-get install ffmpeg"
   ]
  },
  {
   "cell_type": "markdown",
   "metadata": {},
   "source": [
    "# Save the model"
   ]
  },
  {
   "cell_type": "code",
   "execution_count": 11,
   "metadata": {},
   "outputs": [],
   "source": [
    "torch.save(policy.state_dict(), \"./models/model_lr_1.2en2.pth\")"
   ]
  },
  {
   "cell_type": "code",
   "execution_count": null,
   "metadata": {},
   "outputs": [],
   "source": []
  }
 ],
 "metadata": {
  "kernelspec": {
   "display_name": "Python 3",
   "language": "python",
   "name": "python3"
  },
  "language_info": {
   "codemirror_mode": {
    "name": "ipython",
    "version": 3
   },
   "file_extension": ".py",
   "mimetype": "text/x-python",
   "name": "python",
   "nbconvert_exporter": "python",
   "pygments_lexer": "ipython3",
   "version": "3.7.3"
  }
 },
 "nbformat": 4,
 "nbformat_minor": 2
}
